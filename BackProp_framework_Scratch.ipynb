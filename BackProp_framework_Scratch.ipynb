{
  "cells": [
    {
      "cell_type": "markdown",
      "id": "60a9a055",
      "metadata": {
        "id": "60a9a055"
      },
      "source": [
        "## Derivative examples\n"
      ]
    },
    {
      "cell_type": "code",
      "execution_count": 1,
      "id": "f59f6b0d",
      "metadata": {
        "id": "f59f6b0d"
      },
      "outputs": [],
      "source": [
        "import math\n",
        "import numpy as np\n",
        "import matplotlib.pyplot as plt\n",
        "%matplotlib inline"
      ]
    },
    {
      "cell_type": "code",
      "execution_count": 2,
      "id": "2ce4725c",
      "metadata": {
        "id": "2ce4725c"
      },
      "outputs": [],
      "source": [
        "def f(x) :\n",
        "    return 3*x**2 - 4*x + 5"
      ]
    },
    {
      "cell_type": "code",
      "execution_count": 3,
      "id": "7eaa858c",
      "metadata": {
        "colab": {
          "base_uri": "https://localhost:8080/"
        },
        "id": "7eaa858c",
        "outputId": "a92d8dcc-414a-417c-bc79-6883389b2b60"
      },
      "outputs": [
        {
          "output_type": "execute_result",
          "data": {
            "text/plain": [
              "20.0"
            ]
          },
          "metadata": {},
          "execution_count": 3
        }
      ],
      "source": [
        "f(3.0)"
      ]
    },
    {
      "cell_type": "code",
      "execution_count": 4,
      "id": "2673171b",
      "metadata": {
        "colab": {
          "base_uri": "https://localhost:8080/"
        },
        "id": "2673171b",
        "outputId": "c58c4dc2-395b-4b0b-db87-f00230c98a73"
      },
      "outputs": [
        {
          "output_type": "execute_result",
          "data": {
            "text/plain": [
              "array([-5.  , -4.75, -4.5 , -4.25, -4.  , -3.75, -3.5 , -3.25, -3.  ,\n",
              "       -2.75, -2.5 , -2.25, -2.  , -1.75, -1.5 , -1.25, -1.  , -0.75,\n",
              "       -0.5 , -0.25,  0.  ,  0.25,  0.5 ,  0.75,  1.  ,  1.25,  1.5 ,\n",
              "        1.75,  2.  ,  2.25,  2.5 ,  2.75,  3.  ,  3.25,  3.5 ,  3.75,\n",
              "        4.  ,  4.25,  4.5 ,  4.75])"
            ]
          },
          "metadata": {},
          "execution_count": 4
        }
      ],
      "source": [
        "xs = np.arange(-5 , 5 , 0.25)\n",
        "xs"
      ]
    },
    {
      "cell_type": "code",
      "execution_count": 5,
      "id": "cc2c7795",
      "metadata": {
        "colab": {
          "base_uri": "https://localhost:8080/",
          "height": 447
        },
        "id": "cc2c7795",
        "outputId": "9762367b-c1d6-4dde-92df-bc32e4028c8a"
      },
      "outputs": [
        {
          "output_type": "execute_result",
          "data": {
            "text/plain": [
              "[<matplotlib.lines.Line2D at 0x7978b468e920>]"
            ]
          },
          "metadata": {},
          "execution_count": 5
        },
        {
          "output_type": "display_data",
          "data": {
            "text/plain": [
              "<Figure size 640x480 with 1 Axes>"
            ],
            "image/png": "[encoded data removed]"
          },
          "metadata": {}
        }
      ],
      "source": [
        "ys = f(xs)\n",
        "plt.plot(xs , ys)"
      ]
    },
    {
      "cell_type": "code",
      "execution_count": 6,
      "id": "bcbb7e58",
      "metadata": {
        "colab": {
          "base_uri": "https://localhost:8080/"
        },
        "id": "bcbb7e58",
        "outputId": "f3747d27-b6d0-4dcb-910c-9317dcb937a5"
      },
      "outputs": [
        {
          "output_type": "stream",
          "name": "stdout",
          "text": [
            "14.000001158365194\n",
            "-22.000001820288162\n",
            "0.0\n"
          ]
        }
      ],
      "source": [
        "# derivative how much solpe bumps up if we change small value\n",
        "# lim h->0 f(x + h) - f(x) /  h  , /h is to normalize value\n",
        "# it also gives direction in which change takes place\n",
        "h = 0.000000001\n",
        "x = 3.0\n",
        "print((f(x + h) - f(x))/h)\n",
        "x = -3\n",
        "print((f(x + h) - f(x))/h)\n",
        "x = 2/3\n",
        "print((f(x + h) - f(x))/h)"
      ]
    },
    {
      "cell_type": "code",
      "execution_count": 7,
      "id": "3d9c0376",
      "metadata": {
        "colab": {
          "base_uri": "https://localhost:8080/"
        },
        "id": "3d9c0376",
        "outputId": "2895a7a4-2301-4e84-c726-787d95eddad1"
      },
      "outputs": [
        {
          "output_type": "stream",
          "name": "stdout",
          "text": [
            "derivative :  -3.000000000419334\n"
          ]
        }
      ],
      "source": [
        "# how to compute derivative for a equation wrt a particular variable\n",
        "\n",
        "a = 2.0\n",
        "b = -3.0\n",
        "c = 10.0\n",
        "d = a*b + c\n",
        "\n",
        "# find derivative of d wrt a => dd/da\n",
        "h = 0.000001\n",
        "\n",
        "d1 = a*b + c    # old d value\n",
        "a += h          # add h to a\n",
        "d2 = a*b + c    # new d value\n",
        "\n",
        "print(\"derivative : \" , (d2 - d1)/h)\n",
        "\n",
        "# dd/da = b (by calculus) approx -3.0000 our result"
      ]
    },
    {
      "cell_type": "markdown",
      "id": "8440d2bf",
      "metadata": {
        "id": "8440d2bf"
      },
      "source": [
        "## Value Data strucutre / compute unit"
      ]
    },
    {
      "cell_type": "code",
      "execution_count": 108,
      "id": "acb6184d",
      "metadata": {
        "id": "acb6184d"
      },
      "outputs": [],
      "source": [
        "# Now NN is similar , every layer forms equations\n",
        "# backprop => derivative of Loss fun wrt to weights .\n",
        "# we need a data structure to keep track of computations that led to curr node , by which operations\n",
        "# children  ex : a = b*c  , a's children = (Value(b) , Value(c))\n",
        "# op     => '*' (b * c) produced by * of b and c .\n",
        "# as b , c are also value we can recusively get all data of equation from which they were formed\n",
        "\n",
        "\n",
        "class Value:\n",
        "    def __init__(self , data , _children = () , _op = '' , label = '') :\n",
        "        self.data = data\n",
        "        self._prev = set(_children)\n",
        "        self._op  = _op\n",
        "        self.label = label\n",
        "        self.grad = 0\n",
        "        # for backprop\n",
        "        self._backward = lambda : None\n",
        "\n",
        "    def backward(self) :\n",
        "        # topological order all of the children in the graph\n",
        "        topo = []\n",
        "        visited = set()\n",
        "        def build_topo(v):\n",
        "            if v not in visited:\n",
        "                visited.add(v)\n",
        "                for child in v._prev:\n",
        "                    build_topo(child)\n",
        "                topo.append(v)\n",
        "        build_topo(self)\n",
        "\n",
        "        # go one variable at a time and apply the chain rule to get its gradient\n",
        "        self.grad = 1\n",
        "        for v in reversed(topo):\n",
        "            print(v , end = \" \")\n",
        "            v._backward()\n",
        "\n",
        "\n",
        "    def __repr__(self) :\n",
        "        return f\"Value(data = {self.data} , label = {self.label})\"\n",
        "\n",
        "    def __add__(self , other):\n",
        "        # return type should be a Value\n",
        "        out =  Value(self.data + other.data , _children = (self , other) , _op = '+' , label = self.label + '+' + other.label)\n",
        "\n",
        "        def _backward() :\n",
        "            print(\"added\")\n",
        "            self.grad += out.grad\n",
        "            other.grad += out.grad\n",
        "\n",
        "        self._backward = _backward # note assigning function not calling , call when we want to backprop\n",
        "        return out\n",
        "\n",
        "    def __neg__(self) :\n",
        "        self.data = -1* self.data\n",
        "        return self\n",
        "\n",
        "    def __sub__(self , other) :\n",
        "        return self + (-other)   # add with negation\n",
        "\n",
        "    def __mul__(self , other):\n",
        "        out =  Value(self.data * other.data ,_children = (self , other) , _op = '*', label = self.label + '*' + other.label)\n",
        "\n",
        "        def _backward() :\n",
        "            self.grad += out.grad * other.data\n",
        "            other.grad += out.grad * self.data\n",
        "\n",
        "        self._backward = _backward # note assigning function not calling , call when we want to backprop\n",
        "        return out\n",
        "\n",
        "    def tanh(self) :\n",
        "        x  = self.data\n",
        "        t = ((math.exp(2*x) - 1)/(math.exp(2*x) + 1))\n",
        "        out =  Value( t , _children = (self,) , _op = 'tanh' , label = 'tanh(' + self.label + ')')\n",
        "        def _backward() :\n",
        "            self.grad += (1 - t**2)*out.grad\n",
        "        self._backward = _backward\n",
        "        return out"
      ]
    },
    {
      "cell_type": "code",
      "execution_count": 93,
      "id": "1d4fcf5e",
      "metadata": {
        "colab": {
          "base_uri": "https://localhost:8080/"
        },
        "id": "1d4fcf5e",
        "outputId": "63883e66-e29e-4ad6-8f03-f639360af8e8"
      },
      "outputs": [
        {
          "output_type": "stream",
          "name": "stdout",
          "text": [
            "Value(data = 0 , label = a+b)\n",
            "Value(data = 0 , label = a+b)\n",
            "Value(data = -1 , label = a*b)\n",
            "Value(data = 20 , label = c)\n"
          ]
        }
      ],
      "source": [
        "a = Value(1 , label = 'a')\n",
        "b = Value(-1 , label = 'b')\n",
        "c = Value(20 , label = 'c')\n",
        "print(a.__add__(b))\n",
        "print(a + b) # invokes above function\n",
        "print(a*b)\n",
        "d = a*b + c.tanh()\n",
        "print(c)"
      ]
    },
    {
      "cell_type": "code",
      "execution_count": 81,
      "id": "bd26aacb",
      "metadata": {
        "id": "bd26aacb"
      },
      "outputs": [],
      "source": [
        "# c.data = 20\n",
        "# print(c.tanh())"
      ]
    },
    {
      "cell_type": "code",
      "source": [
        "# pip install graphviz"
      ],
      "metadata": {
        "id": "cZYIP_18NqtS"
      },
      "id": "cZYIP_18NqtS",
      "execution_count": 82,
      "outputs": []
    },
    {
      "cell_type": "markdown",
      "id": "87416731",
      "metadata": {
        "id": "87416731"
      },
      "source": [
        "## To visualize the computation graph"
      ]
    },
    {
      "cell_type": "code",
      "execution_count": 83,
      "id": "792788d8",
      "metadata": {
        "id": "792788d8"
      },
      "outputs": [],
      "source": [
        "from graphviz import Digraph\n",
        "\n",
        "def trace(root):\n",
        "    nodes, edges = set(), set()\n",
        "    def build(v):\n",
        "        if v not in nodes:\n",
        "            nodes.add(v)\n",
        "            for child in v._prev:\n",
        "                edges.add((child, v))\n",
        "                build(child)\n",
        "    build(root)\n",
        "    return nodes, edges\n",
        "\n",
        "def draw_dot(root, format='svg', rankdir='LR'):\n",
        "    \"\"\"\n",
        "    format: png | svg | ...\n",
        "    rankdir: TB (top to bottom graph) | LR (left to right)\n",
        "    \"\"\"\n",
        "    assert rankdir in ['LR', 'TB']\n",
        "    nodes, edges = trace(root)\n",
        "    dot = Digraph(format=format, graph_attr={'rankdir': rankdir}) #, node_attr={'rankdir': 'TB'})\n",
        "\n",
        "    for n in nodes:\n",
        "        dot.node(name=str(id(n)), label = \"{ data %.4f | grad %.4f |label %s }\" % (n.data, n.grad , n.label), shape='record')\n",
        "        if n._op:\n",
        "            dot.node(name=str(id(n)) + n._op, label=n._op)\n",
        "            dot.edge(str(id(n)) + n._op, str(id(n)))\n",
        "\n",
        "    for n1, n2 in edges:\n",
        "        dot.edge(str(id(n1)), str(id(n2)) + n2._op)\n",
        "\n",
        "    return dot"
      ]
    },
    {
      "cell_type": "code",
      "execution_count": 94,
      "id": "91ff0a7f",
      "metadata": {
        "colab": {
          "base_uri": "https://localhost:8080/",
          "height": 248
        },
        "id": "91ff0a7f",
        "outputId": "f9b07945-e974-4a62-fda4-274a88ae4670"
      },
      "outputs": [
        {
          "output_type": "execute_result",
          "data": {
            "image/svg+xml": "<?xml version=\"1.0\" encoding=\"UTF-8\" standalone=\"no\"?>\n<!DOCTYPE svg PUBLIC \"-//W3C//DTD SVG 1.1//EN\"\n \"http://www.w3.org/Graphics/SVG/1.1/DTD/svg11.dtd\">\n<!-- Generated by graphviz version 2.43.0 (0)\n -->\n<!-- Title: %3 Pages: 1 -->\n<svg width=\"1004pt\" height=\"155pt\"\n viewBox=\"0.00 0.00 1004.00 155.00\" xmlns=\"http://www.w3.org/2000/svg\" xmlns:xlink=\"http://www.w3.org/1999/xlink\">\n<g id=\"graph0\" class=\"graph\" transform=\"scale(1 1) rotate(0) translate(4 151)\">\n<title>%3</title>\n<polygon fill=\"white\" stroke=\"transparent\" points=\"-4,4 -4,-151 1000,-151 1000,4 -4,4\"/>\n<!-- 133558460728416 -->\n<g id=\"node1\" class=\"node\">\n<title>133558460728416</title>\n<polygon fill=\"none\" stroke=\"black\" points=\"355,-55.5 355,-91.5 588,-91.5 588,-55.5 355,-55.5\"/>\n<text text-anchor=\"middle\" x=\"397.5\" y=\"-69.8\" font-family=\"Times,serif\" font-size=\"14.00\">data &#45;1.0000</text>\n<polyline fill=\"none\" stroke=\"black\" points=\"440,-55.5 440,-91.5 \"/>\n<text text-anchor=\"middle\" x=\"481\" y=\"-69.8\" font-family=\"Times,serif\" font-size=\"14.00\">grad 0.0000</text>\n<polyline fill=\"none\" stroke=\"black\" points=\"522,-55.5 522,-91.5 \"/>\n<text text-anchor=\"middle\" x=\"555\" y=\"-69.8\" font-family=\"Times,serif\" font-size=\"14.00\">label a*b</text>\n</g>\n<!-- 133558460728224+ -->\n<g id=\"node9\" class=\"node\">\n<title>133558460728224+</title>\n<ellipse fill=\"none\" stroke=\"black\" cx=\"658\" cy=\"-100.5\" rx=\"27\" ry=\"18\"/>\n<text text-anchor=\"middle\" x=\"658\" y=\"-96.8\" font-family=\"Times,serif\" font-size=\"14.00\">+</text>\n</g>\n<!-- 133558460728416&#45;&gt;133558460728224+ -->\n<g id=\"edge7\" class=\"edge\">\n<title>133558460728416&#45;&gt;133558460728224+</title>\n<path fill=\"none\" stroke=\"black\" d=\"M588.04,-90.41C599.98,-92.16 611.37,-93.82 621.33,-95.28\"/>\n<polygon fill=\"black\" stroke=\"black\" points=\"621.13,-98.79 631.53,-96.77 622.14,-91.86 621.13,-98.79\"/>\n</g>\n<!-- 133558460728416* -->\n<g id=\"node2\" class=\"node\">\n<title>133558460728416*</title>\n<ellipse fill=\"none\" stroke=\"black\" cx=\"285\" cy=\"-73.5\" rx=\"27\" ry=\"18\"/>\n<text text-anchor=\"middle\" x=\"285\" y=\"-69.8\" font-family=\"Times,serif\" font-size=\"14.00\">*</text>\n</g>\n<!-- 133558460728416*&#45;&gt;133558460728416 -->\n<g id=\"edge1\" class=\"edge\">\n<title>133558460728416*&#45;&gt;133558460728416</title>\n<path fill=\"none\" stroke=\"black\" d=\"M312.04,-73.5C321.28,-73.5 332.38,-73.5 344.38,-73.5\"/>\n<polygon fill=\"black\" stroke=\"black\" points=\"344.64,-77 354.64,-73.5 344.64,-70 344.64,-77\"/>\n</g>\n<!-- 133558462076032 -->\n<g id=\"node3\" class=\"node\">\n<title>133558462076032</title>\n<polygon fill=\"none\" stroke=\"black\" points=\"0,-110.5 0,-146.5 222,-146.5 222,-110.5 0,-110.5\"/>\n<text text-anchor=\"middle\" x=\"43.5\" y=\"-124.8\" font-family=\"Times,serif\" font-size=\"14.00\">data 20.0000</text>\n<polyline fill=\"none\" stroke=\"black\" points=\"87,-110.5 87,-146.5 \"/>\n<text text-anchor=\"middle\" x=\"128\" y=\"-124.8\" font-family=\"Times,serif\" font-size=\"14.00\">grad 0.0000</text>\n<polyline fill=\"none\" stroke=\"black\" points=\"169,-110.5 169,-146.5 \"/>\n<text text-anchor=\"middle\" x=\"195.5\" y=\"-124.8\" font-family=\"Times,serif\" font-size=\"14.00\">label c</text>\n</g>\n<!-- 133558460741376tanh -->\n<g id=\"node6\" class=\"node\">\n<title>133558460741376tanh</title>\n<ellipse fill=\"none\" stroke=\"black\" cx=\"285\" cy=\"-128.5\" rx=\"27\" ry=\"18\"/>\n<text text-anchor=\"middle\" x=\"285\" y=\"-124.8\" font-family=\"Times,serif\" font-size=\"14.00\">tanh</text>\n</g>\n<!-- 133558462076032&#45;&gt;133558460741376tanh -->\n<g id=\"edge6\" class=\"edge\">\n<title>133558462076032&#45;&gt;133558460741376tanh</title>\n<path fill=\"none\" stroke=\"black\" d=\"M222.39,-128.5C231.39,-128.5 239.99,-128.5 247.77,-128.5\"/>\n<polygon fill=\"black\" stroke=\"black\" points=\"247.82,-132 257.82,-128.5 247.82,-125 247.82,-132\"/>\n</g>\n<!-- 133558462074016 -->\n<g id=\"node4\" class=\"node\">\n<title>133558462074016</title>\n<polygon fill=\"none\" stroke=\"black\" points=\"1,-55.5 1,-91.5 221,-91.5 221,-55.5 1,-55.5\"/>\n<text text-anchor=\"middle\" x=\"43.5\" y=\"-69.8\" font-family=\"Times,serif\" font-size=\"14.00\">data &#45;1.0000</text>\n<polyline fill=\"none\" stroke=\"black\" points=\"86,-55.5 86,-91.5 \"/>\n<text text-anchor=\"middle\" x=\"127\" y=\"-69.8\" font-family=\"Times,serif\" font-size=\"14.00\">grad 0.0000</text>\n<polyline fill=\"none\" stroke=\"black\" points=\"168,-55.5 168,-91.5 \"/>\n<text text-anchor=\"middle\" x=\"194.5\" y=\"-69.8\" font-family=\"Times,serif\" font-size=\"14.00\">label b</text>\n</g>\n<!-- 133558462074016&#45;&gt;133558460728416* -->\n<g id=\"edge8\" class=\"edge\">\n<title>133558462074016&#45;&gt;133558460728416*</title>\n<path fill=\"none\" stroke=\"black\" d=\"M221.42,-73.5C230.82,-73.5 239.81,-73.5 247.9,-73.5\"/>\n<polygon fill=\"black\" stroke=\"black\" points=\"247.98,-77 257.98,-73.5 247.98,-70 247.98,-77\"/>\n</g>\n<!-- 133558460741376 -->\n<g id=\"node5\" class=\"node\">\n<title>133558460741376</title>\n<polygon fill=\"none\" stroke=\"black\" points=\"348,-110.5 348,-146.5 595,-146.5 595,-110.5 348,-110.5\"/>\n<text text-anchor=\"middle\" x=\"388\" y=\"-124.8\" font-family=\"Times,serif\" font-size=\"14.00\">data 1.0000</text>\n<polyline fill=\"none\" stroke=\"black\" points=\"428,-110.5 428,-146.5 \"/>\n<text text-anchor=\"middle\" x=\"469\" y=\"-124.8\" font-family=\"Times,serif\" font-size=\"14.00\">grad 0.0000</text>\n<polyline fill=\"none\" stroke=\"black\" points=\"510,-110.5 510,-146.5 \"/>\n<text text-anchor=\"middle\" x=\"552.5\" y=\"-124.8\" font-family=\"Times,serif\" font-size=\"14.00\">label tanh(c)</text>\n</g>\n<!-- 133558460741376&#45;&gt;133558460728224+ -->\n<g id=\"edge4\" class=\"edge\">\n<title>133558460741376&#45;&gt;133558460728224+</title>\n<path fill=\"none\" stroke=\"black\" d=\"M591.17,-110.49C602.03,-108.84 612.36,-107.27 621.48,-105.89\"/>\n<polygon fill=\"black\" stroke=\"black\" points=\"622.22,-109.32 631.59,-104.36 621.17,-102.4 622.22,-109.32\"/>\n</g>\n<!-- 133558460741376tanh&#45;&gt;133558460741376 -->\n<g id=\"edge2\" class=\"edge\">\n<title>133558460741376tanh&#45;&gt;133558460741376</title>\n<path fill=\"none\" stroke=\"black\" d=\"M312.04,-128.5C319.56,-128.5 328.32,-128.5 337.79,-128.5\"/>\n<polygon fill=\"black\" stroke=\"black\" points=\"337.89,-132 347.89,-128.5 337.89,-125 337.89,-132\"/>\n</g>\n<!-- 133558462078288 -->\n<g id=\"node7\" class=\"node\">\n<title>133558462078288</title>\n<polygon fill=\"none\" stroke=\"black\" points=\"3.5,-0.5 3.5,-36.5 218.5,-36.5 218.5,-0.5 3.5,-0.5\"/>\n<text text-anchor=\"middle\" x=\"43.5\" y=\"-14.8\" font-family=\"Times,serif\" font-size=\"14.00\">data 1.0000</text>\n<polyline fill=\"none\" stroke=\"black\" points=\"83.5,-0.5 83.5,-36.5 \"/>\n<text text-anchor=\"middle\" x=\"124.5\" y=\"-14.8\" font-family=\"Times,serif\" font-size=\"14.00\">grad 0.0000</text>\n<polyline fill=\"none\" stroke=\"black\" points=\"165.5,-0.5 165.5,-36.5 \"/>\n<text text-anchor=\"middle\" x=\"192\" y=\"-14.8\" font-family=\"Times,serif\" font-size=\"14.00\">label a</text>\n</g>\n<!-- 133558462078288&#45;&gt;133558460728416* -->\n<g id=\"edge5\" class=\"edge\">\n<title>133558462078288&#45;&gt;133558460728416*</title>\n<path fill=\"none\" stroke=\"black\" d=\"M189.4,-36.52C200.42,-39.57 211.56,-42.92 222,-46.5 232.33,-50.04 243.34,-54.57 253.16,-58.9\"/>\n<polygon fill=\"black\" stroke=\"black\" points=\"251.98,-62.21 262.53,-63.13 254.86,-55.83 251.98,-62.21\"/>\n</g>\n<!-- 133558460728224 -->\n<g id=\"node8\" class=\"node\">\n<title>133558460728224</title>\n<polygon fill=\"none\" stroke=\"black\" points=\"721,-82.5 721,-118.5 996,-118.5 996,-82.5 721,-82.5\"/>\n<text text-anchor=\"middle\" x=\"761\" y=\"-96.8\" font-family=\"Times,serif\" font-size=\"14.00\">data 0.0000</text>\n<polyline fill=\"none\" stroke=\"black\" points=\"801,-82.5 801,-118.5 \"/>\n<text text-anchor=\"middle\" x=\"842\" y=\"-96.8\" font-family=\"Times,serif\" font-size=\"14.00\">grad 0.0000</text>\n<polyline fill=\"none\" stroke=\"black\" points=\"883,-82.5 883,-118.5 \"/>\n<text text-anchor=\"middle\" x=\"939.5\" y=\"-96.8\" font-family=\"Times,serif\" font-size=\"14.00\">label a*b+tanh(c)</text>\n</g>\n<!-- 133558460728224+&#45;&gt;133558460728224 -->\n<g id=\"edge3\" class=\"edge\">\n<title>133558460728224+&#45;&gt;133558460728224</title>\n<path fill=\"none\" stroke=\"black\" d=\"M685.36,-100.5C692.8,-100.5 701.45,-100.5 710.84,-100.5\"/>\n<polygon fill=\"black\" stroke=\"black\" points=\"710.88,-104 720.88,-100.5 710.88,-97 710.88,-104\"/>\n</g>\n</g>\n</svg>\n",
            "text/plain": [
              "<graphviz.graphs.Digraph at 0x797880b07f40>"
            ]
          },
          "metadata": {},
          "execution_count": 94
        }
      ],
      "source": [
        "draw_dot(d)"
      ]
    },
    {
      "cell_type": "code",
      "source": [
        "a = Value(1 , label = 'a')\n",
        "b = Value(2 , label = 'b')\n",
        "c = a + b\n",
        "e = Value(20, label = 'e')\n",
        "d = e*c\n",
        "draw_dot(d)"
      ],
      "metadata": {
        "colab": {
          "base_uri": "https://localhost:8080/",
          "height": 212
        },
        "id": "53OrmYFcYFp8",
        "outputId": "a432db68-86c1-4436-ed83-84a68f488298"
      },
      "id": "53OrmYFcYFp8",
      "execution_count": 105,
      "outputs": [
        {
          "output_type": "execute_result",
          "data": {
            "image/svg+xml": "<?xml version=\"1.0\" encoding=\"UTF-8\" standalone=\"no\"?>\n<!DOCTYPE svg PUBLIC \"-//W3C//DTD SVG 1.1//EN\"\n \"http://www.w3.org/Graphics/SVG/1.1/DTD/svg11.dtd\">\n<!-- Generated by graphviz version 2.43.0 (0)\n -->\n<!-- Title: %3 Pages: 1 -->\n<svg width=\"954pt\" height=\"128pt\"\n viewBox=\"0.00 0.00 954.00 128.00\" xmlns=\"http://www.w3.org/2000/svg\" xmlns:xlink=\"http://www.w3.org/1999/xlink\">\n<g id=\"graph0\" class=\"graph\" transform=\"scale(1 1) rotate(0) translate(4 124)\">\n<title>%3</title>\n<polygon fill=\"white\" stroke=\"transparent\" points=\"-4,4 -4,-124 950,-124 950,4 -4,4\"/>\n<!-- 133558459102736 -->\n<g id=\"node1\" class=\"node\">\n<title>133558459102736</title>\n<polygon fill=\"none\" stroke=\"black\" points=\"0,-83.5 0,-119.5 215,-119.5 215,-83.5 0,-83.5\"/>\n<text text-anchor=\"middle\" x=\"40\" y=\"-97.8\" font-family=\"Times,serif\" font-size=\"14.00\">data 2.0000</text>\n<polyline fill=\"none\" stroke=\"black\" points=\"80,-83.5 80,-119.5 \"/>\n<text text-anchor=\"middle\" x=\"121\" y=\"-97.8\" font-family=\"Times,serif\" font-size=\"14.00\">grad 0.0000</text>\n<polyline fill=\"none\" stroke=\"black\" points=\"162,-83.5 162,-119.5 \"/>\n<text text-anchor=\"middle\" x=\"188.5\" y=\"-97.8\" font-family=\"Times,serif\" font-size=\"14.00\">label b</text>\n</g>\n<!-- 133558459104368+ -->\n<g id=\"node3\" class=\"node\">\n<title>133558459104368+</title>\n<ellipse fill=\"none\" stroke=\"black\" cx=\"278\" cy=\"-73.5\" rx=\"27\" ry=\"18\"/>\n<text text-anchor=\"middle\" x=\"278\" y=\"-69.8\" font-family=\"Times,serif\" font-size=\"14.00\">+</text>\n</g>\n<!-- 133558459102736&#45;&gt;133558459104368+ -->\n<g id=\"edge6\" class=\"edge\">\n<title>133558459102736&#45;&gt;133558459104368+</title>\n<path fill=\"none\" stroke=\"black\" d=\"M215.21,-83.77C224.57,-82.21 233.52,-80.72 241.57,-79.39\"/>\n<polygon fill=\"black\" stroke=\"black\" points=\"242.3,-82.81 251.59,-77.72 241.15,-75.91 242.3,-82.81\"/>\n</g>\n<!-- 133558459104368 -->\n<g id=\"node2\" class=\"node\">\n<title>133558459104368</title>\n<polygon fill=\"none\" stroke=\"black\" points=\"341,-55.5 341,-91.5 571,-91.5 571,-55.5 341,-55.5\"/>\n<text text-anchor=\"middle\" x=\"381\" y=\"-69.8\" font-family=\"Times,serif\" font-size=\"14.00\">data 3.0000</text>\n<polyline fill=\"none\" stroke=\"black\" points=\"421,-55.5 421,-91.5 \"/>\n<text text-anchor=\"middle\" x=\"462\" y=\"-69.8\" font-family=\"Times,serif\" font-size=\"14.00\">grad 0.0000</text>\n<polyline fill=\"none\" stroke=\"black\" points=\"503,-55.5 503,-91.5 \"/>\n<text text-anchor=\"middle\" x=\"537\" y=\"-69.8\" font-family=\"Times,serif\" font-size=\"14.00\">label a+b</text>\n</g>\n<!-- 133558459097840* -->\n<g id=\"node5\" class=\"node\">\n<title>133558459097840*</title>\n<ellipse fill=\"none\" stroke=\"black\" cx=\"634\" cy=\"-45.5\" rx=\"27\" ry=\"18\"/>\n<text text-anchor=\"middle\" x=\"634\" y=\"-41.8\" font-family=\"Times,serif\" font-size=\"14.00\">*</text>\n</g>\n<!-- 133558459104368&#45;&gt;133558459097840* -->\n<g id=\"edge3\" class=\"edge\">\n<title>133558459104368&#45;&gt;133558459097840*</title>\n<path fill=\"none\" stroke=\"black\" d=\"M570.45,-55.45C580.18,-53.9 589.45,-52.43 597.74,-51.11\"/>\n<polygon fill=\"black\" stroke=\"black\" points=\"598.34,-54.56 607.67,-49.53 597.24,-47.65 598.34,-54.56\"/>\n</g>\n<!-- 133558459104368+&#45;&gt;133558459104368 -->\n<g id=\"edge1\" class=\"edge\">\n<title>133558459104368+&#45;&gt;133558459104368</title>\n<path fill=\"none\" stroke=\"black\" d=\"M305.35,-73.5C312.74,-73.5 321.3,-73.5 330.51,-73.5\"/>\n<polygon fill=\"black\" stroke=\"black\" points=\"330.74,-77 340.74,-73.5 330.74,-70 330.74,-77\"/>\n</g>\n<!-- 133558459097840 -->\n<g id=\"node4\" class=\"node\">\n<title>133558459097840</title>\n<polygon fill=\"none\" stroke=\"black\" points=\"697,-27.5 697,-63.5 946,-63.5 946,-27.5 697,-27.5\"/>\n<text text-anchor=\"middle\" x=\"740.5\" y=\"-41.8\" font-family=\"Times,serif\" font-size=\"14.00\">data 60.0000</text>\n<polyline fill=\"none\" stroke=\"black\" points=\"784,-27.5 784,-63.5 \"/>\n<text text-anchor=\"middle\" x=\"825\" y=\"-41.8\" font-family=\"Times,serif\" font-size=\"14.00\">grad 0.0000</text>\n<polyline fill=\"none\" stroke=\"black\" points=\"866,-27.5 866,-63.5 \"/>\n<text text-anchor=\"middle\" x=\"906\" y=\"-41.8\" font-family=\"Times,serif\" font-size=\"14.00\">label e*a+b</text>\n</g>\n<!-- 133558459097840*&#45;&gt;133558459097840 -->\n<g id=\"edge2\" class=\"edge\">\n<title>133558459097840*&#45;&gt;133558459097840</title>\n<path fill=\"none\" stroke=\"black\" d=\"M661.18,-45.5C668.67,-45.5 677.38,-45.5 686.79,-45.5\"/>\n<polygon fill=\"black\" stroke=\"black\" points=\"686.84,-49 696.84,-45.5 686.84,-42 686.84,-49\"/>\n</g>\n<!-- 133558459094384 -->\n<g id=\"node6\" class=\"node\">\n<title>133558459094384</title>\n<polygon fill=\"none\" stroke=\"black\" points=\"345,-0.5 345,-36.5 567,-36.5 567,-0.5 345,-0.5\"/>\n<text text-anchor=\"middle\" x=\"388.5\" y=\"-14.8\" font-family=\"Times,serif\" font-size=\"14.00\">data 20.0000</text>\n<polyline fill=\"none\" stroke=\"black\" points=\"432,-0.5 432,-36.5 \"/>\n<text text-anchor=\"middle\" x=\"473\" y=\"-14.8\" font-family=\"Times,serif\" font-size=\"14.00\">grad 0.0000</text>\n<polyline fill=\"none\" stroke=\"black\" points=\"514,-0.5 514,-36.5 \"/>\n<text text-anchor=\"middle\" x=\"540.5\" y=\"-14.8\" font-family=\"Times,serif\" font-size=\"14.00\">label e</text>\n</g>\n<!-- 133558459094384&#45;&gt;133558459097840* -->\n<g id=\"edge5\" class=\"edge\">\n<title>133558459094384&#45;&gt;133558459097840*</title>\n<path fill=\"none\" stroke=\"black\" d=\"M567.21,-35.41C577.97,-37.06 588.25,-38.63 597.36,-40.03\"/>\n<polygon fill=\"black\" stroke=\"black\" points=\"597.05,-43.53 607.46,-41.58 598.11,-36.61 597.05,-43.53\"/>\n</g>\n<!-- 133558459092368 -->\n<g id=\"node7\" class=\"node\">\n<title>133558459092368</title>\n<polygon fill=\"none\" stroke=\"black\" points=\"0,-28.5 0,-64.5 215,-64.5 215,-28.5 0,-28.5\"/>\n<text text-anchor=\"middle\" x=\"40\" y=\"-42.8\" font-family=\"Times,serif\" font-size=\"14.00\">data 1.0000</text>\n<polyline fill=\"none\" stroke=\"black\" points=\"80,-28.5 80,-64.5 \"/>\n<text text-anchor=\"middle\" x=\"121\" y=\"-42.8\" font-family=\"Times,serif\" font-size=\"14.00\">grad 0.0000</text>\n<polyline fill=\"none\" stroke=\"black\" points=\"162,-28.5 162,-64.5 \"/>\n<text text-anchor=\"middle\" x=\"188.5\" y=\"-42.8\" font-family=\"Times,serif\" font-size=\"14.00\">label a</text>\n</g>\n<!-- 133558459092368&#45;&gt;133558459104368+ -->\n<g id=\"edge4\" class=\"edge\">\n<title>133558459092368&#45;&gt;133558459104368+</title>\n<path fill=\"none\" stroke=\"black\" d=\"M215.21,-63.6C224.57,-65.1 233.52,-66.53 241.57,-67.82\"/>\n<polygon fill=\"black\" stroke=\"black\" points=\"241.16,-71.3 251.59,-69.43 242.27,-64.39 241.16,-71.3\"/>\n</g>\n</g>\n</svg>\n",
            "text/plain": [
              "<graphviz.graphs.Digraph at 0x79788082e230>"
            ]
          },
          "metadata": {},
          "execution_count": 105
        }
      ]
    },
    {
      "cell_type": "code",
      "source": [
        "d.backward()"
      ],
      "metadata": {
        "colab": {
          "base_uri": "https://localhost:8080/"
        },
        "id": "gGqqGm6Ea-cI",
        "outputId": "02a0b1ff-b0c3-4ba4-bc1e-73d6f12cc5c0"
      },
      "id": "gGqqGm6Ea-cI",
      "execution_count": 106,
      "outputs": [
        {
          "output_type": "stream",
          "name": "stdout",
          "text": [
            "Value(data = 60 , label = e*a+b) Value(data = 20 , label = e) Value(data = 3 , label = a+b) Value(data = 2 , label = b) Value(data = 1 , label = a) added\n"
          ]
        }
      ]
    },
    {
      "cell_type": "code",
      "source": [
        "draw_dot(d)"
      ],
      "metadata": {
        "colab": {
          "base_uri": "https://localhost:8080/",
          "height": 212
        },
        "id": "0suPi3FdYp1Z",
        "outputId": "c6df9ec2-2e6a-4c95-8b01-8e51fe166616"
      },
      "id": "0suPi3FdYp1Z",
      "execution_count": 107,
      "outputs": [
        {
          "output_type": "execute_result",
          "data": {
            "image/svg+xml": "<?xml version=\"1.0\" encoding=\"UTF-8\" standalone=\"no\"?>\n<!DOCTYPE svg PUBLIC \"-//W3C//DTD SVG 1.1//EN\"\n \"http://www.w3.org/Graphics/SVG/1.1/DTD/svg11.dtd\">\n<!-- Generated by graphviz version 2.43.0 (0)\n -->\n<!-- Title: %3 Pages: 1 -->\n<svg width=\"968pt\" height=\"128pt\"\n viewBox=\"0.00 0.00 968.00 128.00\" xmlns=\"http://www.w3.org/2000/svg\" xmlns:xlink=\"http://www.w3.org/1999/xlink\">\n<g id=\"graph0\" class=\"graph\" transform=\"scale(1 1) rotate(0) translate(4 124)\">\n<title>%3</title>\n<polygon fill=\"white\" stroke=\"transparent\" points=\"-4,4 -4,-124 964,-124 964,4 -4,4\"/>\n<!-- 133558459102736 -->\n<g id=\"node1\" class=\"node\">\n<title>133558459102736</title>\n<polygon fill=\"none\" stroke=\"black\" points=\"0,-83.5 0,-119.5 222,-119.5 222,-83.5 0,-83.5\"/>\n<text text-anchor=\"middle\" x=\"40\" y=\"-97.8\" font-family=\"Times,serif\" font-size=\"14.00\">data 2.0000</text>\n<polyline fill=\"none\" stroke=\"black\" points=\"80,-83.5 80,-119.5 \"/>\n<text text-anchor=\"middle\" x=\"124.5\" y=\"-97.8\" font-family=\"Times,serif\" font-size=\"14.00\">grad 20.0000</text>\n<polyline fill=\"none\" stroke=\"black\" points=\"169,-83.5 169,-119.5 \"/>\n<text text-anchor=\"middle\" x=\"195.5\" y=\"-97.8\" font-family=\"Times,serif\" font-size=\"14.00\">label b</text>\n</g>\n<!-- 133558459104368+ -->\n<g id=\"node3\" class=\"node\">\n<title>133558459104368+</title>\n<ellipse fill=\"none\" stroke=\"black\" cx=\"285\" cy=\"-73.5\" rx=\"27\" ry=\"18\"/>\n<text text-anchor=\"middle\" x=\"285\" y=\"-69.8\" font-family=\"Times,serif\" font-size=\"14.00\">+</text>\n</g>\n<!-- 133558459102736&#45;&gt;133558459104368+ -->\n<g id=\"edge6\" class=\"edge\">\n<title>133558459102736&#45;&gt;133558459104368+</title>\n<path fill=\"none\" stroke=\"black\" d=\"M222.39,-83.53C231.67,-82.02 240.54,-80.58 248.51,-79.28\"/>\n<polygon fill=\"black\" stroke=\"black\" points=\"249.12,-82.72 258.43,-77.66 247.99,-75.82 249.12,-82.72\"/>\n</g>\n<!-- 133558459104368 -->\n<g id=\"node2\" class=\"node\">\n<title>133558459104368</title>\n<polygon fill=\"none\" stroke=\"black\" points=\"348,-55.5 348,-91.5 585,-91.5 585,-55.5 348,-55.5\"/>\n<text text-anchor=\"middle\" x=\"388\" y=\"-69.8\" font-family=\"Times,serif\" font-size=\"14.00\">data 3.0000</text>\n<polyline fill=\"none\" stroke=\"black\" points=\"428,-55.5 428,-91.5 \"/>\n<text text-anchor=\"middle\" x=\"472.5\" y=\"-69.8\" font-family=\"Times,serif\" font-size=\"14.00\">grad 20.0000</text>\n<polyline fill=\"none\" stroke=\"black\" points=\"517,-55.5 517,-91.5 \"/>\n<text text-anchor=\"middle\" x=\"551\" y=\"-69.8\" font-family=\"Times,serif\" font-size=\"14.00\">label a+b</text>\n</g>\n<!-- 133558459097840* -->\n<g id=\"node5\" class=\"node\">\n<title>133558459097840*</title>\n<ellipse fill=\"none\" stroke=\"black\" cx=\"648\" cy=\"-45.5\" rx=\"27\" ry=\"18\"/>\n<text text-anchor=\"middle\" x=\"648\" y=\"-41.8\" font-family=\"Times,serif\" font-size=\"14.00\">*</text>\n</g>\n<!-- 133558459104368&#45;&gt;133558459097840* -->\n<g id=\"edge3\" class=\"edge\">\n<title>133558459104368&#45;&gt;133558459097840*</title>\n<path fill=\"none\" stroke=\"black\" d=\"M582.96,-55.49C593.12,-53.91 602.8,-52.4 611.41,-51.05\"/>\n<polygon fill=\"black\" stroke=\"black\" points=\"612.02,-54.5 621.36,-49.5 610.94,-47.58 612.02,-54.5\"/>\n</g>\n<!-- 133558459104368+&#45;&gt;133558459104368 -->\n<g id=\"edge1\" class=\"edge\">\n<title>133558459104368+&#45;&gt;133558459104368</title>\n<path fill=\"none\" stroke=\"black\" d=\"M312.1,-73.5C319.61,-73.5 328.33,-73.5 337.75,-73.5\"/>\n<polygon fill=\"black\" stroke=\"black\" points=\"337.78,-77 347.78,-73.5 337.78,-70 337.78,-77\"/>\n</g>\n<!-- 133558459097840 -->\n<g id=\"node4\" class=\"node\">\n<title>133558459097840</title>\n<polygon fill=\"none\" stroke=\"black\" points=\"711,-27.5 711,-63.5 960,-63.5 960,-27.5 711,-27.5\"/>\n<text text-anchor=\"middle\" x=\"754.5\" y=\"-41.8\" font-family=\"Times,serif\" font-size=\"14.00\">data 60.0000</text>\n<polyline fill=\"none\" stroke=\"black\" points=\"798,-27.5 798,-63.5 \"/>\n<text text-anchor=\"middle\" x=\"839\" y=\"-41.8\" font-family=\"Times,serif\" font-size=\"14.00\">grad 1.0000</text>\n<polyline fill=\"none\" stroke=\"black\" points=\"880,-27.5 880,-63.5 \"/>\n<text text-anchor=\"middle\" x=\"920\" y=\"-41.8\" font-family=\"Times,serif\" font-size=\"14.00\">label e*a+b</text>\n</g>\n<!-- 133558459097840*&#45;&gt;133558459097840 -->\n<g id=\"edge2\" class=\"edge\">\n<title>133558459097840*&#45;&gt;133558459097840</title>\n<path fill=\"none\" stroke=\"black\" d=\"M675.18,-45.5C682.67,-45.5 691.38,-45.5 700.79,-45.5\"/>\n<polygon fill=\"black\" stroke=\"black\" points=\"700.84,-49 710.84,-45.5 700.84,-42 700.84,-49\"/>\n</g>\n<!-- 133558459094384 -->\n<g id=\"node6\" class=\"node\">\n<title>133558459094384</title>\n<polygon fill=\"none\" stroke=\"black\" points=\"355.5,-0.5 355.5,-36.5 577.5,-36.5 577.5,-0.5 355.5,-0.5\"/>\n<text text-anchor=\"middle\" x=\"399\" y=\"-14.8\" font-family=\"Times,serif\" font-size=\"14.00\">data 20.0000</text>\n<polyline fill=\"none\" stroke=\"black\" points=\"442.5,-0.5 442.5,-36.5 \"/>\n<text text-anchor=\"middle\" x=\"483.5\" y=\"-14.8\" font-family=\"Times,serif\" font-size=\"14.00\">grad 3.0000</text>\n<polyline fill=\"none\" stroke=\"black\" points=\"524.5,-0.5 524.5,-36.5 \"/>\n<text text-anchor=\"middle\" x=\"551\" y=\"-14.8\" font-family=\"Times,serif\" font-size=\"14.00\">label e</text>\n</g>\n<!-- 133558459094384&#45;&gt;133558459097840* -->\n<g id=\"edge5\" class=\"edge\">\n<title>133558459094384&#45;&gt;133558459097840*</title>\n<path fill=\"none\" stroke=\"black\" d=\"M577.6,-35.06C589.77,-36.89 601.42,-38.64 611.58,-40.17\"/>\n<polygon fill=\"black\" stroke=\"black\" points=\"611.17,-43.65 621.58,-41.68 612.21,-36.73 611.17,-43.65\"/>\n</g>\n<!-- 133558459092368 -->\n<g id=\"node7\" class=\"node\">\n<title>133558459092368</title>\n<polygon fill=\"none\" stroke=\"black\" points=\"0,-28.5 0,-64.5 222,-64.5 222,-28.5 0,-28.5\"/>\n<text text-anchor=\"middle\" x=\"40\" y=\"-42.8\" font-family=\"Times,serif\" font-size=\"14.00\">data 1.0000</text>\n<polyline fill=\"none\" stroke=\"black\" points=\"80,-28.5 80,-64.5 \"/>\n<text text-anchor=\"middle\" x=\"124.5\" y=\"-42.8\" font-family=\"Times,serif\" font-size=\"14.00\">grad 20.0000</text>\n<polyline fill=\"none\" stroke=\"black\" points=\"169,-28.5 169,-64.5 \"/>\n<text text-anchor=\"middle\" x=\"195.5\" y=\"-42.8\" font-family=\"Times,serif\" font-size=\"14.00\">label a</text>\n</g>\n<!-- 133558459092368&#45;&gt;133558459104368+ -->\n<g id=\"edge4\" class=\"edge\">\n<title>133558459092368&#45;&gt;133558459104368+</title>\n<path fill=\"none\" stroke=\"black\" d=\"M222.39,-63.83C231.67,-65.29 240.54,-66.68 248.51,-67.93\"/>\n<polygon fill=\"black\" stroke=\"black\" points=\"248.01,-71.39 258.43,-69.49 249.09,-64.48 248.01,-71.39\"/>\n</g>\n</g>\n</svg>\n",
            "text/plain": [
              "<graphviz.graphs.Digraph at 0x79788082e0b0>"
            ]
          },
          "metadata": {},
          "execution_count": 107
        }
      ]
    },
    {
      "cell_type": "markdown",
      "id": "35065f36",
      "metadata": {
        "id": "35065f36"
      },
      "source": [
        "## Neuron"
      ]
    },
    {
      "cell_type": "code",
      "execution_count": 35,
      "id": "ec441532",
      "metadata": {
        "id": "ec441532"
      },
      "outputs": [],
      "source": [
        "# activation function\n",
        "\n",
        "# # tanh\n",
        "# arr = np.arange(-4,4 , 0.5)\n",
        "# plt.plot(arr , np.tanh(arr))\n",
        "# plt.grid()"
      ]
    },
    {
      "cell_type": "code",
      "execution_count": 52,
      "id": "20c3aace",
      "metadata": {
        "id": "20c3aace"
      },
      "outputs": [],
      "source": [
        "# checking the gradients\n",
        "# d.grad = 1   # output has 1 grad as its at end\n",
        "# d._backward()\n",
        "# we can use dfs to compute all gradients of backprop starting from end node using TopoSort\n",
        "# we add backward function to Value that recursively compute gradients"
      ]
    },
    {
      "cell_type": "code",
      "source": [],
      "metadata": {
        "id": "QbX1zeoNSXB6"
      },
      "id": "QbX1zeoNSXB6",
      "execution_count": null,
      "outputs": []
    }
  ],
  "metadata": {
    "kernelspec": {
      "display_name": "Python 3 (ipykernel)",
      "language": "python",
      "name": "python3"
    },
    "language_info": {
      "codemirror_mode": {
        "name": "ipython",
        "version": 3
      },
      "file_extension": ".py",
      "mimetype": "text/x-python",
      "name": "python",
      "nbconvert_exporter": "python",
      "pygments_lexer": "ipython3",
      "version": "3.9.13"
    },
    "colab": {
      "provenance": []
    }
  },
  "nbformat": 4,
  "nbformat_minor": 5
}